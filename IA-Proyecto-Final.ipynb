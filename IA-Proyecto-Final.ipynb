{
 "cells": [
  {
   "cell_type": "code",
   "execution_count": 1,
   "metadata": {},
   "outputs": [],
   "source": [
    "from sklearn.feature_extraction.text import TfidfVectorizer\n",
    "from sklearn.metrics import accuracy_score\n",
    "import numpy as np\n",
    "import pandas as pd\n",
    "import os\n",
    "import re\n",
    "from string import punctuation\n",
    "from nltk.corpus import stopwords\n",
    "\n",
    "import matplotlib.pyplot as plt\n",
    "from sklearn.linear_model import LogisticRegression"
   ]
  },
  {
   "cell_type": "code",
   "execution_count": 2,
   "metadata": {},
   "outputs": [],
   "source": [
    "spanish_stopwords = stopwords.words('spanish') # carga palabras stop del español\n",
    "\n",
    "direccion_archivo_corpus = './nuestra-data/corpus.csv'\n",
    "\n",
    "corpus = []\n",
    "for line in open(direccion_archivo_corpus, 'r',encoding=\"utf-8\"):\n",
    "    corpus.append(line.strip()) #carga informacion sin espacios al principio ni al final de la linea\n",
    "\n",
    "reviews_train = []\n",
    "for line in open('./nuestra-data/entrenamiento.txt', 'r',encoding=\"utf-8\"):\n",
    "    reviews_train.append(line.strip()) #carga informacion sin espacios al principio ni al final de la linea\n",
    "    \n",
    "reviews_test = []\n",
    "for line in open('./nuestra-data/prueba.txt', 'r',encoding=\"utf-8\"):\n",
    "    reviews_test.append(line.strip())"
   ]
  },
  {
   "cell_type": "code",
   "execution_count": 3,
   "metadata": {},
   "outputs": [
    {
     "name": "stdout",
     "output_type": "stream",
     "text": [
      "Cantidad de datos: 1376\n"
     ]
    }
   ],
   "source": [
    "print(\"Cantidad de datos: \" + str(len(corpus)))"
   ]
  },
  {
   "cell_type": "code",
   "execution_count": 4,
   "metadata": {},
   "outputs": [
    {
     "name": "stdout",
     "output_type": "stream",
     "text": [
      "Clase Polaridad\n",
      "  Cantidad de positivos: 808\n",
      "  Cantidad de negativos: 568\n"
     ]
    }
   ],
   "source": [
    "import csv\n",
    "contador_positivos = 0\n",
    "contador_negativos = 0\n",
    "lista_positivos = []\n",
    "lista_negativos = []\n",
    "with open(direccion_archivo_corpus, 'r') as archivo_csv:\n",
    "    csv_lector = csv.reader(archivo_csv, delimiter=',')\n",
    "    for linea in csv_lector:\n",
    "        if linea[1] == 'positive':\n",
    "            contador_positivos += 1\n",
    "            lista_positivos.append(linea)\n",
    "        if linea[1] == 'negative':\n",
    "            contador_negativos += 1\n",
    "            lista_negativos.append(linea)\n",
    "       \n",
    "print(\"Clase Polaridad\")\n",
    "print(\"  Cantidad de positivos: \" + str(contador_positivos))\n",
    "print(\"  Cantidad de negativos: \" + str(contador_negativos))"
   ]
  },
  {
   "cell_type": "code",
   "execution_count": 5,
   "metadata": {},
   "outputs": [
    {
     "name": "stdout",
     "output_type": "stream",
     "text": [
      "El promedio es: 688\n",
      "La mediana es: 688.0\n"
     ]
    },
    {
     "data": {
      "text/html": [
       "<div>\n",
       "<style scoped>\n",
       "    .dataframe tbody tr th:only-of-type {\n",
       "        vertical-align: middle;\n",
       "    }\n",
       "\n",
       "    .dataframe tbody tr th {\n",
       "        vertical-align: top;\n",
       "    }\n",
       "\n",
       "    .dataframe thead th {\n",
       "        text-align: right;\n",
       "    }\n",
       "</style>\n",
       "<table border=\"1\" class=\"dataframe\">\n",
       "  <thead>\n",
       "    <tr style=\"text-align: right;\">\n",
       "      <th></th>\n",
       "      <th>ID</th>\n",
       "    </tr>\n",
       "  </thead>\n",
       "  <tbody>\n",
       "    <tr>\n",
       "      <td>count</td>\n",
       "      <td>1376.000000</td>\n",
       "    </tr>\n",
       "    <tr>\n",
       "      <td>mean</td>\n",
       "      <td>688.500000</td>\n",
       "    </tr>\n",
       "    <tr>\n",
       "      <td>std</td>\n",
       "      <td>397.361297</td>\n",
       "    </tr>\n",
       "    <tr>\n",
       "      <td>min</td>\n",
       "      <td>1.000000</td>\n",
       "    </tr>\n",
       "    <tr>\n",
       "      <td>25%</td>\n",
       "      <td>344.750000</td>\n",
       "    </tr>\n",
       "    <tr>\n",
       "      <td>50%</td>\n",
       "      <td>688.500000</td>\n",
       "    </tr>\n",
       "    <tr>\n",
       "      <td>75%</td>\n",
       "      <td>1032.250000</td>\n",
       "    </tr>\n",
       "    <tr>\n",
       "      <td>max</td>\n",
       "      <td>1376.000000</td>\n",
       "    </tr>\n",
       "  </tbody>\n",
       "</table>\n",
       "</div>"
      ],
      "text/plain": [
       "                ID\n",
       "count  1376.000000\n",
       "mean    688.500000\n",
       "std     397.361297\n",
       "min       1.000000\n",
       "25%     344.750000\n",
       "50%     688.500000\n",
       "75%    1032.250000\n",
       "max    1376.000000"
      ]
     },
     "execution_count": 5,
     "metadata": {},
     "output_type": "execute_result"
    }
   ],
   "source": [
    "import statistics\n",
    "\n",
    "print(\"El promedio es: \" \n",
    "      + str(statistics.mean(\n",
    "          [contador_positivos, contador_negativos])))\n",
    "print(\"La mediana es: \" \n",
    "      + str(statistics.median(\n",
    "          [contador_positivos, contador_negativos])))\n",
    "\n",
    "dataframe_corpus = pd.read_csv(\"./nuestra-data/corpus_etiquetado_numerado.csv\")\n",
    "dataframe_corpus.describe()"
   ]
  },
  {
   "cell_type": "code",
   "execution_count": 18,
   "metadata": {},
   "outputs": [
    {
     "name": "stdout",
     "output_type": "stream",
     "text": [
      "Tamaño de dataset de entrenamiento: 800\n",
      "Tamaño de dataset de prueba: 576\n"
     ]
    }
   ],
   "source": [
    "print(\"Tamaño de dataset de entrenamiento: \" + str(len(reviews_train)))\n",
    "print(\"Tamaño de dataset de prueba: \" + str(len(reviews_test)))"
   ]
  },
  {
   "cell_type": "code",
   "execution_count": 15,
   "metadata": {},
   "outputs": [
    {
     "data": {
      "image/png": "[encoded data removed]",
      "text/plain": [
       "<Figure size 432x288 with 1 Axes>"
      ]
     },
     "metadata": {
      "needs_background": "light"
     },
     "output_type": "display_data"
    }
   ],
   "source": [
    "import seaborn as sns\n",
    "import matplotlib.pyplot as plt\n",
    "\n",
    "sns.countplot(x=\" Polaridad\", data=dataframe_corpus);"
   ]
  },
  {
   "cell_type": "code",
   "execution_count": 7,
   "metadata": {},
   "outputs": [
    {
     "data": {
      "text/plain": [
       "['_vickydesimone pachiquintans -  Tome un milka oreo estoy asi😎. . jajajaj tkm!',\n",
       " 'AgoosHughes decimelo a mi, me olvidé de comprarme algo en milka😣',\n",
       " 'Ark_antos tonse cuando las pillas mis padres suelen pillar hacendado, o cosas así',\n",
       " 'Benji_Mascolo bimbo felice❤️',\n",
       " 'byBerted integrales???Pues hay pan integral pan tostado integral pan bimbo integral cereales integrales... Ale una clase rapida e intensiba',\n",
       " 'camaleon92 Xabi, ambos sabemos que es lo que acabara ocurriendo, que me comeré una tableta de milka JAJAJAJAJA',\n",
       " 'CandeArbizu McDonalds_Ar me muero ooo!!!!!!! Milka oreo soy tu fan😍😍😍😍',\n",
       " 'ESAHE me recuerda al pan de pitaya... lo preparan en el norte... me tendre que conformar ahorita con unos de Bimbo :/',\n",
       " 'FDoficial Pame viste el pan bimbo artesano bueno tambien esta para las hamburguesas... una bomba😁🍔🍔',\n",
       " 'iComxkon_ yo más milka']"
      ]
     },
     "execution_count": 7,
     "metadata": {},
     "output_type": "execute_result"
    }
   ],
   "source": [
    "reviews_train[:10]  # muestra ultimos 10 datos"
   ]
  },
  {
   "cell_type": "code",
   "execution_count": 8,
   "metadata": {},
   "outputs": [],
   "source": [
    "import re\n",
    "\n",
    "REPLACE_NO_SPACE = re.compile(\"(\\.)|(\\;)|(\\:)|(\\!)|(\\')|(\\?)|(\\,)|(\\\")|(\\()|(\\))|(\\[)|(\\])|(\\d+)\")\n",
    "REPLACE_WITH_SPACE = re.compile(\"(<br\\s*/><br\\s*/>)|(\\-)|(\\/)\")\n",
    "NO_SPACE = \"\"\n",
    "SPACE = \" \"\n",
    "\n",
    "def preprocess_reviews(reviews):\n",
    "    \n",
    "    reviews = [REPLACE_NO_SPACE.sub(NO_SPACE, line.lower()) for line in reviews]\n",
    "    reviews = [REPLACE_WITH_SPACE.sub(SPACE, line) for line in reviews]\n",
    "    \n",
    "    return reviews\n",
    "\n",
    "reviews_train_clean = preprocess_reviews(reviews_train)\n",
    "reviews_test_clean = preprocess_reviews(reviews_test)"
   ]
  },
  {
   "cell_type": "code",
   "execution_count": 9,
   "metadata": {},
   "outputs": [
    {
     "data": {
      "text/plain": [
       "'camaleon xabi ambos sabemos que es lo que acabara ocurriendo que me comeré una tableta de milka jajajajaja'"
      ]
     },
     "execution_count": 9,
     "metadata": {},
     "output_type": "execute_result"
    }
   ],
   "source": [
    "reviews_train_clean[5]"
   ]
  },
  {
   "cell_type": "code",
   "execution_count": 10,
   "metadata": {},
   "outputs": [],
   "source": [
    "from sklearn.feature_extraction.text import CountVectorizer\n",
    "\n",
    "cv = CountVectorizer(analyzer = 'word',\n",
    "                stop_words = spanish_stopwords,\n",
    "                binary=True)\n",
    "cv.fit(reviews_train_clean)\n",
    "X = cv.transform(reviews_train_clean)\n",
    "X_test = cv.transform(reviews_test_clean)"
   ]
  },
  {
   "cell_type": "code",
   "execution_count": 11,
   "metadata": {},
   "outputs": [
    {
     "name": "stdout",
     "output_type": "stream",
     "text": [
      "Accuracy for C=0.01: 0.795\n",
      "Accuracy for C=0.05: 0.78\n",
      "Accuracy for C=0.25: 0.79\n",
      "Accuracy for C=0.5: 0.79\n",
      "Accuracy for C=1: 0.805\n"
     ]
    },
    {
     "name": "stderr",
     "output_type": "stream",
     "text": [
      "/opt/conda/lib/python3.7/site-packages/sklearn/linear_model/logistic.py:432: FutureWarning: Default solver will be changed to 'lbfgs' in 0.22. Specify a solver to silence this warning.\n",
      "  FutureWarning)\n"
     ]
    }
   ],
   "source": [
    "from sklearn.linear_model import LogisticRegression\n",
    "from sklearn.metrics import accuracy_score\n",
    "from sklearn.model_selection import train_test_split\n",
    "\n",
    "target = [1 if i < 400 else 0 for i in range(800)]\n",
    "\n",
    "X_train, X_val, y_train, y_val = train_test_split(\n",
    "    X, target, train_size = 0.75\n",
    ")\n",
    "\n",
    "for c in [0.01, 0.05, 0.25, 0.5, 1]:\n",
    "    \n",
    "    lr = LogisticRegression(C=c)\n",
    "    lr.fit(X_train, y_train)\n",
    "    print (\"Accuracy for C=%s: %s\" \n",
    "           % (c, accuracy_score(y_val, lr.predict(X_val))))\n",
    "    "
   ]
  },
  {
   "cell_type": "code",
   "execution_count": 12,
   "metadata": {},
   "outputs": [
    {
     "data": {
      "text/plain": [
       "LogisticRegression(C=0.05, class_weight=None, dual=False, fit_intercept=True,\n",
       "                   intercept_scaling=1, l1_ratio=None, max_iter=100,\n",
       "                   multi_class='warn', n_jobs=None, penalty='l2',\n",
       "                   random_state=None, solver='warn', tol=0.0001, verbose=0,\n",
       "                   warm_start=False)"
      ]
     },
     "execution_count": 12,
     "metadata": {},
     "output_type": "execute_result"
    }
   ],
   "source": [
    "final_model = LogisticRegression(C=0.05)\n",
    "final_model.fit(X, target)"
   ]
  },
  {
   "cell_type": "code",
   "execution_count": 28,
   "metadata": {},
   "outputs": [
    {
     "name": "stdout",
     "output_type": "stream",
     "text": [
      "('milka', 1.1670617075278744)\n",
      "('heineken', 0.8946119891425988)\n",
      "('oreo', 0.37591801737918906)\n",
      "('bimbo', 0.24853810962725445)\n",
      "('bien', 0.24396620396853325)\n",
      "('estrella', 0.2162160137501607)\n",
      "('galicia', 0.21014534324710885)\n",
      "('buena', 0.19132994202371678)\n",
      "('estrellagalicia', 0.18457560710578227)\n",
      "('quiero', 0.18406016603091563)\n",
      "('gracias', 0.17738853571132504)\n",
      "('chocolate', 0.17163506042621476)\n",
      "('peugeot', 0.14920974395988287)\n",
      "('siempre', 0.14350226254504786)\n",
      "('pan', 0.13189320670978413)\n",
      "('bankia', -0.8081224978011984)\n",
      "('adidas', -0.7758579566739625)\n",
      "('nike', -0.543305195399936)\n",
      "('bbva', -0.370600416272117)\n",
      "('banco', -0.3315968856060477)\n",
      "('santander', -0.2986705881020187)\n",
      "('arruinaunacitaconpalabras', -0.2222863329352624)\n",
      "('cruzcampo', -0.19546885079522783)\n",
      "('si', -0.16782507600645755)\n",
      "('da', -0.15507485510209137)\n",
      "('caixa', -0.15305901269154032)\n",
      "('mierda', -0.1307837304216737)\n",
      "('dinero', -0.12737401747481364)\n",
      "('asco', -0.11955716621524876)\n",
      "('sabadell', -0.10898930777365168)\n"
     ]
    }
   ],
   "source": [
    "feature_to_coef = {\n",
    "    word: coef for word, coef in zip(\n",
    "        cv.get_feature_names(), final_model.coef_[0]\n",
    "    )\n",
    "}\n",
    "for best_positive in sorted(\n",
    "    feature_to_coef.items(), \n",
    "    key=lambda x: x[1], \n",
    "    reverse=True)[:15]:\n",
    "    print (best_positive)\n",
    "    \n",
    "for best_negative in sorted(\n",
    "    feature_to_coef.items(), \n",
    "    key=lambda x: x[1])[:15]:\n",
    "    print (best_negative)"
   ]
  },
  {
   "cell_type": "code",
   "execution_count": 25,
   "metadata": {},
   "outputs": [
    {
     "name": "stdout",
     "output_type": "stream",
     "text": [
      "[[263  34]\n",
      " [ 42 261]]\n"
     ]
    }
   ],
   "source": [
    "from sklearn.metrics import confusion_matrix\n",
    "predictions = final_model.predict(X_train)\n",
    "print(confusion_matrix(y_train, predictions))"
   ]
  },
  {
   "cell_type": "code",
   "execution_count": null,
   "metadata": {},
   "outputs": [],
   "source": []
  }
 ],
 "metadata": {
  "kernelspec": {
   "display_name": "Python 3",
   "language": "python",
   "name": "python3"
  },
  "language_info": {
   "codemirror_mode": {
    "name": "ipython",
    "version": 3
   },
   "file_extension": ".py",
   "mimetype": "text/x-python",
   "name": "python",
   "nbconvert_exporter": "python",
   "pygments_lexer": "ipython3",
   "version": "3.7.4"
  }
 },
 "nbformat": 4,
 "nbformat_minor": 2
}
